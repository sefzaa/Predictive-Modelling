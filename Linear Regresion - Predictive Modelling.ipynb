{
 "cells": [
  {
   "cell_type": "markdown",
   "id": "6dc684b7",
   "metadata": {},
   "source": [
    "# Tidak Menggunakan Atribut Tanggal "
   ]
  },
  {
   "cell_type": "code",
   "execution_count": 1,
   "id": "81e62644",
   "metadata": {},
   "outputs": [],
   "source": [
    "# Import library yang diperlukan\n",
    "import pandas as pd\n",
    "from sklearn.model_selection import train_test_split\n",
    "from sklearn.linear_model import LinearRegression\n",
    "from sklearn.metrics import mean_squared_error\n",
    "from datetime import datetime\n",
    "import numpy as np\n",
    "import os"
   ]
  },
  {
   "cell_type": "code",
   "execution_count": 2,
   "id": "e23ac82c",
   "metadata": {},
   "outputs": [],
   "source": [
    "# Misalkan Anda memiliki DataFrame bernama df_donor dan df_permintaan\n",
    "df_donor = pd.read_csv('donor.csv')\n",
    "df_permintaan = pd.read_csv('permintaan.csv')"
   ]
  },
  {
   "cell_type": "code",
   "execution_count": 3,
   "id": "aa33df81",
   "metadata": {},
   "outputs": [
    {
     "data": {
      "text/html": [
       "<div>\n",
       "<style scoped>\n",
       "    .dataframe tbody tr th:only-of-type {\n",
       "        vertical-align: middle;\n",
       "    }\n",
       "\n",
       "    .dataframe tbody tr th {\n",
       "        vertical-align: top;\n",
       "    }\n",
       "\n",
       "    .dataframe thead th {\n",
       "        text-align: right;\n",
       "    }\n",
       "</style>\n",
       "<table border=\"1\" class=\"dataframe\">\n",
       "  <thead>\n",
       "    <tr style=\"text-align: right;\">\n",
       "      <th></th>\n",
       "      <th>id_donor</th>\n",
       "      <th>usia</th>\n",
       "      <th>jk</th>\n",
       "      <th>golda</th>\n",
       "      <th>jumlah</th>\n",
       "      <th>tanggal</th>\n",
       "    </tr>\n",
       "  </thead>\n",
       "  <tbody>\n",
       "    <tr>\n",
       "      <th>0</th>\n",
       "      <td>1371DGAFS000001</td>\n",
       "      <td>53</td>\n",
       "      <td>Perempuan</td>\n",
       "      <td>AB</td>\n",
       "      <td>1</td>\n",
       "      <td>22-08-2023</td>\n",
       "    </tr>\n",
       "    <tr>\n",
       "      <th>1</th>\n",
       "      <td>1371DGNAD000143</td>\n",
       "      <td>26</td>\n",
       "      <td>Perempuan</td>\n",
       "      <td>O</td>\n",
       "      <td>1</td>\n",
       "      <td>01-04-2021</td>\n",
       "    </tr>\n",
       "    <tr>\n",
       "      <th>2</th>\n",
       "      <td>1371DG1Lin000007</td>\n",
       "      <td>31</td>\n",
       "      <td>Laki-laki</td>\n",
       "      <td>B</td>\n",
       "      <td>25</td>\n",
       "      <td>15-02-2020</td>\n",
       "    </tr>\n",
       "    <tr>\n",
       "      <th>3</th>\n",
       "      <td>1371DG1Lin000007</td>\n",
       "      <td>31</td>\n",
       "      <td>Laki-laki</td>\n",
       "      <td>B</td>\n",
       "      <td>26</td>\n",
       "      <td>13-06-2020</td>\n",
       "    </tr>\n",
       "    <tr>\n",
       "      <th>4</th>\n",
       "      <td>1371DG1Lin000007</td>\n",
       "      <td>31</td>\n",
       "      <td>Laki-laki</td>\n",
       "      <td>B</td>\n",
       "      <td>27</td>\n",
       "      <td>17-02-2022</td>\n",
       "    </tr>\n",
       "  </tbody>\n",
       "</table>\n",
       "</div>"
      ],
      "text/plain": [
       "           id_donor  usia         jk golda  jumlah     tanggal\n",
       "0   1371DGAFS000001    53  Perempuan    AB       1  22-08-2023\n",
       "1   1371DGNAD000143    26  Perempuan     O       1  01-04-2021\n",
       "2  1371DG1Lin000007    31  Laki-laki     B      25  15-02-2020\n",
       "3  1371DG1Lin000007    31  Laki-laki     B      26  13-06-2020\n",
       "4  1371DG1Lin000007    31  Laki-laki     B      27  17-02-2022"
      ]
     },
     "execution_count": 3,
     "metadata": {},
     "output_type": "execute_result"
    }
   ],
   "source": [
    "df_donor.head()"
   ]
  },
  {
   "cell_type": "code",
   "execution_count": 4,
   "id": "bd3e5ab7",
   "metadata": {},
   "outputs": [
    {
     "data": {
      "text/html": [
       "<div>\n",
       "<style scoped>\n",
       "    .dataframe tbody tr th:only-of-type {\n",
       "        vertical-align: middle;\n",
       "    }\n",
       "\n",
       "    .dataframe tbody tr th {\n",
       "        vertical-align: top;\n",
       "    }\n",
       "\n",
       "    .dataframe thead th {\n",
       "        text-align: right;\n",
       "    }\n",
       "</style>\n",
       "<table border=\"1\" class=\"dataframe\">\n",
       "  <thead>\n",
       "    <tr style=\"text-align: right;\">\n",
       "      <th></th>\n",
       "      <th>instansi</th>\n",
       "      <th>tanggal</th>\n",
       "      <th>komponen</th>\n",
       "      <th>golda</th>\n",
       "      <th>jumlah</th>\n",
       "    </tr>\n",
       "  </thead>\n",
       "  <tbody>\n",
       "    <tr>\n",
       "      <th>0</th>\n",
       "      <td>RSU. DR. M. Djamil</td>\n",
       "      <td>02-01-2020</td>\n",
       "      <td>WE</td>\n",
       "      <td>O</td>\n",
       "      <td>2</td>\n",
       "    </tr>\n",
       "    <tr>\n",
       "      <th>1</th>\n",
       "      <td>RSU. DR. M. Djamil</td>\n",
       "      <td>14-08-2020</td>\n",
       "      <td>TC</td>\n",
       "      <td>O</td>\n",
       "      <td>3</td>\n",
       "    </tr>\n",
       "    <tr>\n",
       "      <th>2</th>\n",
       "      <td>RSU. DR. M. Djamil</td>\n",
       "      <td>26-10-2020</td>\n",
       "      <td>PRC</td>\n",
       "      <td>A</td>\n",
       "      <td>1</td>\n",
       "    </tr>\n",
       "    <tr>\n",
       "      <th>3</th>\n",
       "      <td>RSU. DR. M. Djamil</td>\n",
       "      <td>12-01-2021</td>\n",
       "      <td>PRC</td>\n",
       "      <td>AB</td>\n",
       "      <td>1</td>\n",
       "    </tr>\n",
       "    <tr>\n",
       "      <th>4</th>\n",
       "      <td>RSU. DR. M. Djamil</td>\n",
       "      <td>13-03-2021</td>\n",
       "      <td>WB</td>\n",
       "      <td>O</td>\n",
       "      <td>2</td>\n",
       "    </tr>\n",
       "  </tbody>\n",
       "</table>\n",
       "</div>"
      ],
      "text/plain": [
       "             instansi     tanggal komponen golda  jumlah\n",
       "0  RSU. DR. M. Djamil  02-01-2020       WE     O       2\n",
       "1  RSU. DR. M. Djamil  14-08-2020       TC     O       3\n",
       "2  RSU. DR. M. Djamil  26-10-2020      PRC     A       1\n",
       "3  RSU. DR. M. Djamil  12-01-2021      PRC    AB       1\n",
       "4  RSU. DR. M. Djamil  13-03-2021       WB     O       2"
      ]
     },
     "execution_count": 4,
     "metadata": {},
     "output_type": "execute_result"
    }
   ],
   "source": [
    "df_permintaan.head()"
   ]
  },
  {
   "cell_type": "code",
   "execution_count": 5,
   "id": "bc32e501",
   "metadata": {},
   "outputs": [],
   "source": [
    "# Preprocessing data\n",
    "# Ubah data kategorikal menjadi numerik menggunakan pd.get_dummies atau metode lainnya\n",
    "# Ubah atribut jenis kelamin\n",
    "df_donor['jk'] = df_donor['jk'].map({'Laki-laki': 1, 'Perempuan': 0})\n",
    "\n",
    "# Ubah atribut golongan darah\n",
    "df_donor['golda'] = df_donor['golda'].map({'A': 1, 'B': 2, 'AB': 3, 'O': 4})\n",
    "\n",
    "# Hapus data yang bernilai kosong atau missing value pada atribut golda\n",
    "df_donor = df_donor.dropna(subset=['golda'])\n",
    "\n",
    "# Hapus data yang bernilai selain 1, 2, 3, dan 4 pada atribut golda\n",
    "df_donor = df_donor[df_donor['golda'].isin([1, 2, 3, 4])]\n",
    "\n",
    "# Ubah atribut komponen menjadi integer dengan sequence\n",
    "df_permintaan['komponen'], uniques = pd.factorize(df_permintaan['komponen'])\n",
    "\n",
    "# Ubah atribut golongan darah\n",
    "df_permintaan['golda'] = df_permintaan['golda'].map({'A': 1, 'B': 2, 'AB': 3, 'O': 4})\n",
    "\n",
    "# Hapus data yang bernilai kosong atau missing value pada atribut golda\n",
    "df_permintaan = df_permintaan.dropna(subset=['golda'])\n",
    "\n",
    "# Hapus data yang bernilai selain 1, 2, 3, dan 4 pada atribut golda\n",
    "df_permintaan = df_permintaan[df_permintaan['golda'].isin([1, 2, 3, 4])]\n",
    "\n",
    "# Ubah atribut komponen menjadi integer dengan sequence\n",
    "df_permintaan['instansi'], uniques = pd.factorize(df_permintaan['instansi'])\n",
    "\n",
    "# Ubah atribut komponen menjadi integer dengan sequence\n",
    "df_donor['id_donor'], uniques = pd.factorize(df_donor['id_donor'])\n",
    "\n",
    "\n",
    "\n",
    "# Hapus atribut tanggal\n",
    "df_donor = df_donor.drop('tanggal', axis=1)\n",
    "df_permintaan = df_permintaan.drop('tanggal', axis=1)\n",
    "\n",
    "\n",
    "\n"
   ]
  },
  {
   "cell_type": "code",
   "execution_count": 6,
   "id": "9b40c04a",
   "metadata": {},
   "outputs": [
    {
     "data": {
      "text/html": [
       "<div>\n",
       "<style scoped>\n",
       "    .dataframe tbody tr th:only-of-type {\n",
       "        vertical-align: middle;\n",
       "    }\n",
       "\n",
       "    .dataframe tbody tr th {\n",
       "        vertical-align: top;\n",
       "    }\n",
       "\n",
       "    .dataframe thead th {\n",
       "        text-align: right;\n",
       "    }\n",
       "</style>\n",
       "<table border=\"1\" class=\"dataframe\">\n",
       "  <thead>\n",
       "    <tr style=\"text-align: right;\">\n",
       "      <th></th>\n",
       "      <th>id_donor</th>\n",
       "      <th>usia</th>\n",
       "      <th>jk</th>\n",
       "      <th>golda</th>\n",
       "      <th>jumlah</th>\n",
       "    </tr>\n",
       "  </thead>\n",
       "  <tbody>\n",
       "    <tr>\n",
       "      <th>0</th>\n",
       "      <td>0</td>\n",
       "      <td>53</td>\n",
       "      <td>0</td>\n",
       "      <td>3</td>\n",
       "      <td>1</td>\n",
       "    </tr>\n",
       "    <tr>\n",
       "      <th>1</th>\n",
       "      <td>1</td>\n",
       "      <td>26</td>\n",
       "      <td>0</td>\n",
       "      <td>4</td>\n",
       "      <td>1</td>\n",
       "    </tr>\n",
       "    <tr>\n",
       "      <th>2</th>\n",
       "      <td>2</td>\n",
       "      <td>31</td>\n",
       "      <td>1</td>\n",
       "      <td>2</td>\n",
       "      <td>25</td>\n",
       "    </tr>\n",
       "    <tr>\n",
       "      <th>3</th>\n",
       "      <td>2</td>\n",
       "      <td>31</td>\n",
       "      <td>1</td>\n",
       "      <td>2</td>\n",
       "      <td>26</td>\n",
       "    </tr>\n",
       "    <tr>\n",
       "      <th>4</th>\n",
       "      <td>2</td>\n",
       "      <td>31</td>\n",
       "      <td>1</td>\n",
       "      <td>2</td>\n",
       "      <td>27</td>\n",
       "    </tr>\n",
       "  </tbody>\n",
       "</table>\n",
       "</div>"
      ],
      "text/plain": [
       "   id_donor  usia  jk  golda  jumlah\n",
       "0         0    53   0      3       1\n",
       "1         1    26   0      4       1\n",
       "2         2    31   1      2      25\n",
       "3         2    31   1      2      26\n",
       "4         2    31   1      2      27"
      ]
     },
     "execution_count": 6,
     "metadata": {},
     "output_type": "execute_result"
    }
   ],
   "source": [
    "df_donor.head()"
   ]
  },
  {
   "cell_type": "code",
   "execution_count": 7,
   "id": "533cd829",
   "metadata": {},
   "outputs": [
    {
     "data": {
      "text/html": [
       "<div>\n",
       "<style scoped>\n",
       "    .dataframe tbody tr th:only-of-type {\n",
       "        vertical-align: middle;\n",
       "    }\n",
       "\n",
       "    .dataframe tbody tr th {\n",
       "        vertical-align: top;\n",
       "    }\n",
       "\n",
       "    .dataframe thead th {\n",
       "        text-align: right;\n",
       "    }\n",
       "</style>\n",
       "<table border=\"1\" class=\"dataframe\">\n",
       "  <thead>\n",
       "    <tr style=\"text-align: right;\">\n",
       "      <th></th>\n",
       "      <th>instansi</th>\n",
       "      <th>komponen</th>\n",
       "      <th>golda</th>\n",
       "      <th>jumlah</th>\n",
       "    </tr>\n",
       "  </thead>\n",
       "  <tbody>\n",
       "    <tr>\n",
       "      <th>0</th>\n",
       "      <td>0</td>\n",
       "      <td>0</td>\n",
       "      <td>4</td>\n",
       "      <td>2</td>\n",
       "    </tr>\n",
       "    <tr>\n",
       "      <th>1</th>\n",
       "      <td>0</td>\n",
       "      <td>1</td>\n",
       "      <td>4</td>\n",
       "      <td>3</td>\n",
       "    </tr>\n",
       "    <tr>\n",
       "      <th>2</th>\n",
       "      <td>0</td>\n",
       "      <td>2</td>\n",
       "      <td>1</td>\n",
       "      <td>1</td>\n",
       "    </tr>\n",
       "    <tr>\n",
       "      <th>3</th>\n",
       "      <td>0</td>\n",
       "      <td>2</td>\n",
       "      <td>3</td>\n",
       "      <td>1</td>\n",
       "    </tr>\n",
       "    <tr>\n",
       "      <th>4</th>\n",
       "      <td>0</td>\n",
       "      <td>3</td>\n",
       "      <td>4</td>\n",
       "      <td>2</td>\n",
       "    </tr>\n",
       "  </tbody>\n",
       "</table>\n",
       "</div>"
      ],
      "text/plain": [
       "   instansi  komponen  golda  jumlah\n",
       "0         0         0      4       2\n",
       "1         0         1      4       3\n",
       "2         0         2      1       1\n",
       "3         0         2      3       1\n",
       "4         0         3      4       2"
      ]
     },
     "execution_count": 7,
     "metadata": {},
     "output_type": "execute_result"
    }
   ],
   "source": [
    "df_permintaan.head()"
   ]
  },
  {
   "cell_type": "code",
   "execution_count": 8,
   "id": "92f710b6",
   "metadata": {},
   "outputs": [],
   "source": [
    "# Pisahkan data menjadi fitur (X) dan target (y)\n",
    "X_donor = df_donor.drop('jumlah', axis=1)\n",
    "y_donor = df_donor['jumlah']\n",
    "X_permintaan = df_permintaan.drop('jumlah', axis=1)\n",
    "y_permintaan = df_permintaan['jumlah']"
   ]
  },
  {
   "cell_type": "code",
   "execution_count": 9,
   "id": "99129b55",
   "metadata": {},
   "outputs": [],
   "source": [
    "# Bagi data menjadi data latih dan data uji\n",
    "X_train_donor, X_test_donor, y_train_donor, y_test_donor = train_test_split(X_donor, y_donor, test_size=0.2, random_state=42)\n",
    "X_train_permintaan, X_test_permintaan, y_train_permintaan, y_test_permintaan = train_test_split(X_permintaan, y_permintaan, test_size=0.2, random_state=42)"
   ]
  },
  {
   "cell_type": "code",
   "execution_count": 10,
   "id": "9f3f1880",
   "metadata": {},
   "outputs": [],
   "source": [
    "# Buat model regresi linear\n",
    "model_donor = LinearRegression()\n",
    "model_permintaan = LinearRegression()"
   ]
  },
  {
   "cell_type": "code",
   "execution_count": 15,
   "id": "b55110eb",
   "metadata": {},
   "outputs": [
    {
     "data": {
      "text/html": [
       "<style>#sk-container-id-2 {color: black;}#sk-container-id-2 pre{padding: 0;}#sk-container-id-2 div.sk-toggleable {background-color: white;}#sk-container-id-2 label.sk-toggleable__label {cursor: pointer;display: block;width: 100%;margin-bottom: 0;padding: 0.3em;box-sizing: border-box;text-align: center;}#sk-container-id-2 label.sk-toggleable__label-arrow:before {content: \"▸\";float: left;margin-right: 0.25em;color: #696969;}#sk-container-id-2 label.sk-toggleable__label-arrow:hover:before {color: black;}#sk-container-id-2 div.sk-estimator:hover label.sk-toggleable__label-arrow:before {color: black;}#sk-container-id-2 div.sk-toggleable__content {max-height: 0;max-width: 0;overflow: hidden;text-align: left;background-color: #f0f8ff;}#sk-container-id-2 div.sk-toggleable__content pre {margin: 0.2em;color: black;border-radius: 0.25em;background-color: #f0f8ff;}#sk-container-id-2 input.sk-toggleable__control:checked~div.sk-toggleable__content {max-height: 200px;max-width: 100%;overflow: auto;}#sk-container-id-2 input.sk-toggleable__control:checked~label.sk-toggleable__label-arrow:before {content: \"▾\";}#sk-container-id-2 div.sk-estimator input.sk-toggleable__control:checked~label.sk-toggleable__label {background-color: #d4ebff;}#sk-container-id-2 div.sk-label input.sk-toggleable__control:checked~label.sk-toggleable__label {background-color: #d4ebff;}#sk-container-id-2 input.sk-hidden--visually {border: 0;clip: rect(1px 1px 1px 1px);clip: rect(1px, 1px, 1px, 1px);height: 1px;margin: -1px;overflow: hidden;padding: 0;position: absolute;width: 1px;}#sk-container-id-2 div.sk-estimator {font-family: monospace;background-color: #f0f8ff;border: 1px dotted black;border-radius: 0.25em;box-sizing: border-box;margin-bottom: 0.5em;}#sk-container-id-2 div.sk-estimator:hover {background-color: #d4ebff;}#sk-container-id-2 div.sk-parallel-item::after {content: \"\";width: 100%;border-bottom: 1px solid gray;flex-grow: 1;}#sk-container-id-2 div.sk-label:hover label.sk-toggleable__label {background-color: #d4ebff;}#sk-container-id-2 div.sk-serial::before {content: \"\";position: absolute;border-left: 1px solid gray;box-sizing: border-box;top: 0;bottom: 0;left: 50%;z-index: 0;}#sk-container-id-2 div.sk-serial {display: flex;flex-direction: column;align-items: center;background-color: white;padding-right: 0.2em;padding-left: 0.2em;position: relative;}#sk-container-id-2 div.sk-item {position: relative;z-index: 1;}#sk-container-id-2 div.sk-parallel {display: flex;align-items: stretch;justify-content: center;background-color: white;position: relative;}#sk-container-id-2 div.sk-item::before, #sk-container-id-2 div.sk-parallel-item::before {content: \"\";position: absolute;border-left: 1px solid gray;box-sizing: border-box;top: 0;bottom: 0;left: 50%;z-index: -1;}#sk-container-id-2 div.sk-parallel-item {display: flex;flex-direction: column;z-index: 1;position: relative;background-color: white;}#sk-container-id-2 div.sk-parallel-item:first-child::after {align-self: flex-end;width: 50%;}#sk-container-id-2 div.sk-parallel-item:last-child::after {align-self: flex-start;width: 50%;}#sk-container-id-2 div.sk-parallel-item:only-child::after {width: 0;}#sk-container-id-2 div.sk-dashed-wrapped {border: 1px dashed gray;margin: 0 0.4em 0.5em 0.4em;box-sizing: border-box;padding-bottom: 0.4em;background-color: white;}#sk-container-id-2 div.sk-label label {font-family: monospace;font-weight: bold;display: inline-block;line-height: 1.2em;}#sk-container-id-2 div.sk-label-container {text-align: center;}#sk-container-id-2 div.sk-container {/* jupyter's `normalize.less` sets `[hidden] { display: none; }` but bootstrap.min.css set `[hidden] { display: none !important; }` so we also need the `!important` here to be able to override the default hidden behavior on the sphinx rendered scikit-learn.org. See: https://github.com/scikit-learn/scikit-learn/issues/21755 */display: inline-block !important;position: relative;}#sk-container-id-2 div.sk-text-repr-fallback {display: none;}</style><div id=\"sk-container-id-2\" class=\"sk-top-container\"><div class=\"sk-text-repr-fallback\"><pre>LinearRegression()</pre><b>In a Jupyter environment, please rerun this cell to show the HTML representation or trust the notebook. <br />On GitHub, the HTML representation is unable to render, please try loading this page with nbviewer.org.</b></div><div class=\"sk-container\" hidden><div class=\"sk-item\"><div class=\"sk-estimator sk-toggleable\"><input class=\"sk-toggleable__control sk-hidden--visually\" id=\"sk-estimator-id-2\" type=\"checkbox\" checked><label for=\"sk-estimator-id-2\" class=\"sk-toggleable__label sk-toggleable__label-arrow\">LinearRegression</label><div class=\"sk-toggleable__content\"><pre>LinearRegression()</pre></div></div></div></div></div>"
      ],
      "text/plain": [
       "LinearRegression()"
      ]
     },
     "execution_count": 15,
     "metadata": {},
     "output_type": "execute_result"
    }
   ],
   "source": [
    "# Latih model dengan data latih\n",
    "model_donor.fit(X_train_donor, y_train_donor)\n",
    "model_permintaan.fit(X_train_permintaan, y_train_permintaan)\n",
    "LinearRegression()"
   ]
  },
  {
   "cell_type": "code",
   "execution_count": 12,
   "id": "c8d68945",
   "metadata": {},
   "outputs": [],
   "source": [
    "# Prediksi data uji\n",
    "y_pred_donor = model_donor.predict(X_test_donor)\n",
    "y_pred_permintaan = model_permintaan.predict(X_test_permintaan)"
   ]
  },
  {
   "cell_type": "code",
   "execution_count": 13,
   "id": "1f5f4f0e",
   "metadata": {},
   "outputs": [],
   "source": [
    "# Evaluasi model dengan menghitung RMSE\n",
    "rmse_donor = mean_squared_error(y_test_donor, y_pred_donor, squared=False)\n",
    "rmse_permintaan = mean_squared_error(y_test_permintaan, y_pred_permintaan, squared=False)"
   ]
  },
  {
   "cell_type": "code",
   "execution_count": 14,
   "id": "4c98fcee",
   "metadata": {},
   "outputs": [
    {
     "name": "stdout",
     "output_type": "stream",
     "text": [
      "RMSE model prediksi donor: 17.43842609390573\n",
      "RMSE model prediksi permintaan: 2.268352828927249\n"
     ]
    }
   ],
   "source": [
    "# Cetak hasil evaluasi\n",
    "print(f'RMSE model prediksi donor: {rmse_donor}')\n",
    "print(f'RMSE model prediksi permintaan: {rmse_permintaan}')"
   ]
  }
 ],
 "metadata": {
  "kernelspec": {
   "display_name": "Python 3 (ipykernel)",
   "language": "python",
   "name": "python3"
  },
  "language_info": {
   "codemirror_mode": {
    "name": "ipython",
    "version": 3
   },
   "file_extension": ".py",
   "mimetype": "text/x-python",
   "name": "python",
   "nbconvert_exporter": "python",
   "pygments_lexer": "ipython3",
   "version": "3.11.5"
  }
 },
 "nbformat": 4,
 "nbformat_minor": 5
}
