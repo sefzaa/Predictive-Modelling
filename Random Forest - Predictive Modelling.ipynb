{
 "cells": [
  {
   "cell_type": "code",
   "execution_count": 1,
   "id": "bbd75dbe",
   "metadata": {},
   "outputs": [],
   "source": [
    "# Import library yang diperlukan\n",
    "import pandas as pd\n",
    "from sklearn.model_selection import train_test_split\n",
    "from sklearn.ensemble import RandomForestRegressor\n",
    "from sklearn.metrics import mean_squared_error\n",
    "from sklearn.preprocessing import LabelEncoder\n",
    "\n"
   ]
  },
  {
   "cell_type": "code",
   "execution_count": 2,
   "id": "3038205a",
   "metadata": {},
   "outputs": [],
   "source": [
    "# Misalkan Anda memiliki DataFrame bernama df_donor dan df_permintaan\n",
    "df_donor = pd.read_csv('donor.csv')\n",
    "df_permintaan = pd.read_csv('permintaan.csv')\n"
   ]
  },
  {
   "cell_type": "code",
   "execution_count": 3,
   "id": "7892bf41",
   "metadata": {},
   "outputs": [],
   "source": [
    "# Preprocessing data\n",
    "# Ubah data kategorikal menjadi numerik menggunakan LabelEncoder\n",
    "label_encoder = LabelEncoder()\n",
    "df_donor['id_donor'] = label_encoder.fit_transform(df_donor['id_donor'])\n",
    "df_donor['jk'] = label_encoder.fit_transform(df_donor['jk'])\n",
    "df_donor['golda'] = label_encoder.fit_transform(df_donor['golda'])\n",
    "df_donor['usia'] = label_encoder.fit_transform(df_donor['usia'])\n",
    "\n",
    "\n",
    "df_permintaan['instansi'] = label_encoder.fit_transform(df_permintaan['instansi'])\n",
    "df_permintaan['golda'] = label_encoder.fit_transform(df_permintaan['golda'])\n",
    "df_permintaan['komponen'] = label_encoder.fit_transform(df_permintaan['komponen'])\n",
    "\n",
    "# Hapus atribut tanggal\n",
    "df_donor = df_donor.drop('tanggal', axis=1)\n",
    "df_permintaan = df_permintaan.drop('tanggal', axis=1)\n"
   ]
  },
  {
   "cell_type": "code",
   "execution_count": 4,
   "id": "2b56123a",
   "metadata": {},
   "outputs": [],
   "source": [
    "# Pisahkan data menjadi fitur (X) dan target (y)\n",
    "X_donor = df_donor.drop('jumlah', axis=1)\n",
    "y_donor = df_donor['jumlah']\n",
    "X_permintaan = df_permintaan.drop('jumlah', axis=1)\n",
    "y_permintaan = df_permintaan['jumlah']\n",
    "\n"
   ]
  },
  {
   "cell_type": "code",
   "execution_count": 5,
   "id": "a592c33a",
   "metadata": {},
   "outputs": [],
   "source": [
    "# Bagi data menjadi data latih dan data uji\n",
    "X_train_donor, X_test_donor, y_train_donor, y_test_donor = train_test_split(X_donor, y_donor, test_size=0.2, random_state=42)\n",
    "X_train_permintaan, X_test_permintaan, y_train_permintaan, y_test_permintaan = train_test_split(X_permintaan, y_permintaan, test_size=0.2, random_state=42)\n",
    "\n"
   ]
  },
  {
   "cell_type": "code",
   "execution_count": 6,
   "id": "1e701cae",
   "metadata": {},
   "outputs": [],
   "source": [
    "# Buat model Random Forest\n",
    "model_donor = RandomForestRegressor(n_estimators=100, random_state=42)\n",
    "model_permintaan = RandomForestRegressor(n_estimators=100, random_state=42)\n",
    "\n"
   ]
  },
  {
   "cell_type": "code",
   "execution_count": null,
   "id": "9b4929ca",
   "metadata": {},
   "outputs": [],
   "source": [
    "# Latih model dengan data latih\n",
    "model_donor.fit(X_train_donor, y_train_donor)\n",
    "model_permintaan.fit(X_train_permintaan, y_train_permintaan)\n",
    "\n"
   ]
  },
  {
   "cell_type": "code",
   "execution_count": null,
   "id": "dbc4aa7a",
   "metadata": {},
   "outputs": [],
   "source": [
    "# Prediksi data uji\n",
    "y_pred_donor = model_donor.predict(X_test_donor)\n",
    "y_pred_permintaan = model_permintaan.predict(X_test_permintaan)\n",
    "\n"
   ]
  },
  {
   "cell_type": "code",
   "execution_count": null,
   "id": "67cddfc4",
   "metadata": {},
   "outputs": [],
   "source": [
    "# Evaluasi model dengan menghitung RMSE\n",
    "rmse_donor = mean_squared_error(y_test_donor, y_pred_donor, squared=False)\n",
    "rmse_permintaan = mean_squared_error(y_test_permintaan, y_pred_permintaan, squared=False)\n",
    "\n"
   ]
  },
  {
   "cell_type": "code",
   "execution_count": null,
   "id": "19a3bf2a",
   "metadata": {},
   "outputs": [],
   "source": [
    "# Cetak hasil evaluasi\n",
    "print(f'RMSE model prediksi donor: {rmse_donor}')\n",
    "print(f'RMSE model prediksi permintaan: {rmse_permintaan}')\n"
   ]
  },
  {
   "cell_type": "code",
   "execution_count": null,
   "id": "06303bb9",
   "metadata": {},
   "outputs": [],
   "source": []
  },
  {
   "cell_type": "code",
   "execution_count": null,
   "id": "8b8cc707",
   "metadata": {},
   "outputs": [],
   "source": []
  },
  {
   "cell_type": "code",
   "execution_count": null,
   "id": "f956c7ee",
   "metadata": {},
   "outputs": [],
   "source": []
  },
  {
   "cell_type": "code",
   "execution_count": null,
   "id": "79f18202",
   "metadata": {},
   "outputs": [],
   "source": []
  },
  {
   "cell_type": "code",
   "execution_count": null,
   "id": "d368c2e9",
   "metadata": {},
   "outputs": [],
   "source": []
  },
  {
   "cell_type": "code",
   "execution_count": null,
   "id": "6ceb54da",
   "metadata": {},
   "outputs": [],
   "source": []
  },
  {
   "cell_type": "code",
   "execution_count": null,
   "id": "87166f1e",
   "metadata": {},
   "outputs": [],
   "source": []
  },
  {
   "cell_type": "code",
   "execution_count": null,
   "id": "b47ae5e5",
   "metadata": {},
   "outputs": [],
   "source": []
  },
  {
   "cell_type": "code",
   "execution_count": null,
   "id": "0a06dfd1",
   "metadata": {},
   "outputs": [],
   "source": []
  },
  {
   "cell_type": "code",
   "execution_count": null,
   "id": "f0dd4e28",
   "metadata": {},
   "outputs": [],
   "source": []
  },
  {
   "cell_type": "code",
   "execution_count": null,
   "id": "ed39dc0b",
   "metadata": {},
   "outputs": [],
   "source": []
  }
 ],
 "metadata": {
  "kernelspec": {
   "display_name": "Python 3 (ipykernel)",
   "language": "python",
   "name": "python3"
  },
  "language_info": {
   "codemirror_mode": {
    "name": "ipython",
    "version": 3
   },
   "file_extension": ".py",
   "mimetype": "text/x-python",
   "name": "python",
   "nbconvert_exporter": "python",
   "pygments_lexer": "ipython3",
   "version": "3.11.5"
  }
 },
 "nbformat": 4,
 "nbformat_minor": 5
}
